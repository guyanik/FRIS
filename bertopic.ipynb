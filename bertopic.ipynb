{
 "cells": [
  {
   "cell_type": "code",
   "execution_count": 1,
   "metadata": {},
   "outputs": [
    {
     "name": "stdout",
     "output_type": "stream",
     "text": [
      "Intel MKL WARNING: Support of Intel(R) Streaming SIMD Extensions 4.2 (Intel(R) SSE4.2) enabled only processors has been deprecated. Intel oneAPI Math Kernel Library 2025.0 will require Intel(R) Advanced Vector Extensions (Intel(R) AVX) instructions.\n",
      "Intel MKL WARNING: Support of Intel(R) Streaming SIMD Extensions 4.2 (Intel(R) SSE4.2) enabled only processors has been deprecated. Intel oneAPI Math Kernel Library 2025.0 will require Intel(R) Advanced Vector Extensions (Intel(R) AVX) instructions.\n"
     ]
    },
    {
     "name": "stderr",
     "output_type": "stream",
     "text": [
      "/Users/hgu/opt/anaconda3/envs/openai/lib/python3.11/site-packages/tqdm/auto.py:21: TqdmWarning: IProgress not found. Please update jupyter and ipywidgets. See https://ipywidgets.readthedocs.io/en/stable/user_install.html\n",
      "  from .autonotebook import tqdm as notebook_tqdm\n"
     ]
    }
   ],
   "source": [
    "from bertopic import BERTopic\n",
    "from sklearn.metrics.pairwise import cosine_similarity\n",
    "from scipy.spatial.distance import jensenshannon\n",
    "import pandas as pd\n",
    "import numpy as np\n",
    "import json"
   ]
  },
  {
   "cell_type": "code",
   "execution_count": 2,
   "metadata": {},
   "outputs": [
    {
     "name": "stdout",
     "output_type": "stream",
     "text": [
      "444\n",
      "147\n"
     ]
    }
   ],
   "source": [
    "with open('FRIS_data.json') as f:\n",
    "    data = json.load(f)\n",
    "\n",
    "clean_data = {}\n",
    "for pro_id in data.keys():\n",
    "    if data[pro_id]['publications'] and data[pro_id]['disciplines']:\n",
    "        clean_data[pro_id] = data[pro_id]\n",
    "print(len(clean_data))\n",
    "\n",
    "pro_id_list = list(clean_data.keys())\n",
    "for pro_id in pro_id_list:\n",
    "    pubs = {}\n",
    "    pro_dis_list = []\n",
    "    for pub_id in clean_data[pro_id]['publications'].keys():\n",
    "        if clean_data[pro_id]['publications'][pub_id]['disciplines'] and clean_data[pro_id]['publications'][pub_id]['authors']:\n",
    "            pro_dis_list.extend(clean_data[pro_id]['publications'][pub_id]['disciplines'])\n",
    "            pubs[pub_id] = clean_data[pro_id]['publications'][pub_id]\n",
    "    \n",
    "    if pubs:\n",
    "        clean_data[pro_id]['publications'] = pubs\n",
    "        clean_data[pro_id]['disciplines'] = list(set(pro_dis_list))\n",
    "    else:\n",
    "        del clean_data[pro_id]\n",
    "\n",
    "print(len(clean_data))"
   ]
  },
  {
   "cell_type": "code",
   "execution_count": 3,
   "metadata": {},
   "outputs": [
    {
     "name": "stdout",
     "output_type": "stream",
     "text": [
      "117 30\n",
      "117 30 377 150\n"
     ]
    }
   ],
   "source": [
    "split = 0.8\n",
    "train_data = {k: clean_data[k] for k in list(clean_data.keys())[:int(split*len(clean_data))]}\n",
    "test_data = {k: clean_data[k] for k in list(clean_data.keys())[int(split*len(clean_data)):]}\n",
    "print(len(train_data), len(test_data))\n",
    "\n",
    "train_project_data = {}\n",
    "train_pub_data = []\n",
    "for pro_id in train_data.keys():\n",
    "    train_project_data[pro_id] = (train_data[pro_id]['abstract'])\n",
    "    for pub_id in train_data[pro_id]['publications'].keys():\n",
    "        train_pub_data.append((pub_id, train_data[pro_id]['publications'][pub_id]['abstract']))\n",
    "\n",
    "test_project_data = {}\n",
    "test_pub_data = []\n",
    "for pro_id in test_data.keys():\n",
    "    test_project_data[pro_id] = (test_data[pro_id]['abstract'])\n",
    "    for pub_id in test_data[pro_id]['publications'].keys():\n",
    "        test_pub_data.append((pub_id, test_data[pro_id]['publications'][pub_id]['abstract']))\n",
    "\n",
    "print(len(train_project_data), len(test_project_data), len(train_pub_data), len(test_pub_data))"
   ]
  },
  {
   "cell_type": "code",
   "execution_count": 4,
   "metadata": {},
   "outputs": [],
   "source": [
    "train_docs = list(train_project_data.values()) + [pub[1] for pub in train_pub_data]\n",
    "test_docs = list(test_project_data.values()) + [pub[1] for pub in test_pub_data]"
   ]
  },
  {
   "cell_type": "code",
   "execution_count": 5,
   "metadata": {},
   "outputs": [
    {
     "name": "stdout",
     "output_type": "stream",
     "text": [
      "Intel MKL WARNING: Support of Intel(R) Streaming SIMD Extensions 4.2 (Intel(R) SSE4.2) enabled only processors has been deprecated. Intel oneAPI Math Kernel Library 2025.0 will require Intel(R) Advanced Vector Extensions (Intel(R) AVX) instructions.\n"
     ]
    }
   ],
   "source": [
    "topic_model = BERTopic(language=\"english\", calculate_probabilities=True)\n",
    "topics, probs = topic_model.fit_transform(train_docs)"
   ]
  },
  {
   "cell_type": "code",
   "execution_count": 6,
   "metadata": {},
   "outputs": [],
   "source": [
    "project_abstracts = list(train_project_data.values()) + list(test_project_data.values())\n",
    "pub_abstracts = [pub[1] for pub in train_pub_data] + [pub[1] for pub in test_pub_data]\n",
    "\n",
    "project_matrix = []\n",
    "for abstract in project_abstracts:\n",
    "    project_matrix.append(list(topic_model.approximate_distribution(abstract)[0][0]))\n",
    "\n",
    "pub_matrix = []\n",
    "for abstract in pub_abstracts:\n",
    "    pub_matrix.append(list(topic_model.approximate_distribution(abstract)[0][0]))"
   ]
  },
  {
   "cell_type": "code",
   "execution_count": 7,
   "metadata": {},
   "outputs": [
    {
     "name": "stderr",
     "output_type": "stream",
     "text": [
      "/Users/hgu/opt/anaconda3/envs/openai/lib/python3.11/site-packages/scipy/spatial/distance.py:1261: RuntimeWarning: invalid value encountered in divide\n",
      "  p = p / np.sum(p, axis=axis, keepdims=True)\n"
     ]
    },
    {
     "data": {
      "text/plain": [
       "(147, 527)"
      ]
     },
     "execution_count": 7,
     "metadata": {},
     "output_type": "execute_result"
    }
   ],
   "source": [
    "distance_matrix = np.zeros((len(project_matrix), len(pub_matrix)))\n",
    "\n",
    "for i in range(len(project_matrix)):\n",
    "    for j in range(len(pub_matrix)):\n",
    "        distance_matrix[i, j] = jensenshannon(project_matrix[i], pub_matrix[j])\n",
    "\n",
    "distance_matrix.shape"
   ]
  },
  {
   "cell_type": "code",
   "execution_count": 8,
   "metadata": {},
   "outputs": [],
   "source": [
    "# gradient boosting\n",
    "# data matrix is constructed as follows: rows are projects, columns are publications\n",
    "# each cell is a list of 6 elements: [belongs, date, org, auth, dis, distance]\n",
    "# outcome is whether publication is in project or not\n",
    "# features are date, org, auth, dis, distance\n",
    "\n",
    "# xgboost\n",
    "import xgboost as xgb\n",
    "from xgboost import plot_importance\n",
    "import matplotlib.pylab as plt"
   ]
  },
  {
   "cell_type": "code",
   "execution_count": 9,
   "metadata": {},
   "outputs": [
    {
     "data": {
      "text/html": [
       "<div>\n",
       "<style scoped>\n",
       "    .dataframe tbody tr th:only-of-type {\n",
       "        vertical-align: middle;\n",
       "    }\n",
       "\n",
       "    .dataframe tbody tr th {\n",
       "        vertical-align: top;\n",
       "    }\n",
       "\n",
       "    .dataframe thead th {\n",
       "        text-align: right;\n",
       "    }\n",
       "</style>\n",
       "<table border=\"1\" class=\"dataframe\">\n",
       "  <thead>\n",
       "    <tr style=\"text-align: right;\">\n",
       "      <th></th>\n",
       "      <th>55975b31-3cc2-4534-a097-85b1eab6cd53</th>\n",
       "      <th>bbaf834d-f8e1-4187-84b4-a35484625c09</th>\n",
       "      <th>50ad741e-6c36-4fbb-9b48-0fa901e9f63b</th>\n",
       "      <th>383f820f-0e0c-4aee-bfb4-6ebd5f6c2b63</th>\n",
       "      <th>ca3fcf40-66cf-44cd-a51e-3cff9e189cf5</th>\n",
       "      <th>d0399103-8325-4b32-9476-3d3729793829</th>\n",
       "      <th>ae73aff3-91db-470d-bc96-ea6d2e9fe137</th>\n",
       "      <th>d640f97c-94eb-4330-9772-f19d23865d19</th>\n",
       "      <th>db848229-540e-455a-baf4-55a73676b869</th>\n",
       "      <th>8a4dc512-1865-45f1-90d6-aeb015495ac1</th>\n",
       "      <th>...</th>\n",
       "      <th>1345f834-90ee-4410-9e95-64056dc7ccc6</th>\n",
       "      <th>0eff44f1-f239-4c33-8689-fbb804a0b4be</th>\n",
       "      <th>e1e2e876-911f-4b18-b306-abbcc2910cda</th>\n",
       "      <th>f3901814-7b38-44e8-9942-243712c64d0a</th>\n",
       "      <th>356a15bb-13d5-4696-b46f-1ed8c0dcc458</th>\n",
       "      <th>d7be1087-e478-45a0-8d81-e004edad4252</th>\n",
       "      <th>c9b8f2f7-64a6-4583-a3e4-e4e1ef417fcb</th>\n",
       "      <th>3479fff9-d576-4a15-8d4c-d5135a7a913e</th>\n",
       "      <th>2d806798-2da6-4083-8ae3-9aacf75687df</th>\n",
       "      <th>7fd9ea53-fad6-4203-842b-80b82bda0235</th>\n",
       "    </tr>\n",
       "  </thead>\n",
       "  <tbody>\n",
       "    <tr>\n",
       "      <th>d833bf9c-e2b4-4843-a897-1eaa0baeffa6</th>\n",
       "      <td>[1, 1, 0.0, 1.0, 1.0, 0.12722622860914465]</td>\n",
       "      <td>[1, 1, 0.0, 1.0, 1.0, 0.0418975413416725]</td>\n",
       "      <td>[1, 1, 0.25, 0.25, 1.0, 0.04497916739972355]</td>\n",
       "      <td>[1, 1, 0.0, 0.5, 1.0, 0.060832545276179754]</td>\n",
       "      <td>[1, 1, 0.0, 1.0, 1.0, 0.04372866162543565]</td>\n",
       "      <td>[1, 1, 0.0, 1.0, 1.0, 0.03095686040234366]</td>\n",
       "      <td>[0, 1, 0.0, 0.0, 1.0, 0.06947123914892452]</td>\n",
       "      <td>[0, 1, 0.0, 0.0, 0.0, 0.07743419793958785]</td>\n",
       "      <td>[0, 1, 0.0, 0.0, 1.0, 0.04396994737308485]</td>\n",
       "      <td>[0, 1, 0.0, 0.0, 0.75, 0.05230032133944178]</td>\n",
       "      <td>...</td>\n",
       "      <td>[0, 1, 0.0, 0.0, 1.0, 0.015835977128241904]</td>\n",
       "      <td>[0, 1, 0.0, 0.0, 0.75, 0.03443406712245344]</td>\n",
       "      <td>[0, 1, 0.0, 0.0, 0.75, 0.07422113103329166]</td>\n",
       "      <td>[0, 1, 0.0, 0.0, 1.0, 0.07045161146415625]</td>\n",
       "      <td>[0, 1, 0.0, 0.0, 1.0, 0.043132435762261445]</td>\n",
       "      <td>[0, 1, 0.0, 0.0, 1.0, 0.0433354257086734]</td>\n",
       "      <td>[0, 1, 0.0, 0.0, 0.0, 0.0756190115034312]</td>\n",
       "      <td>[0, 1, 0.0, 0.0, 1.0, 0.04328841145236386]</td>\n",
       "      <td>[0, 1, 0.0, 0.0, 1.0, 0.033283339471036455]</td>\n",
       "      <td>[0, 1, 0.0, 0.0, 1.0, 0.05778907275479786]</td>\n",
       "    </tr>\n",
       "    <tr>\n",
       "      <th>9cc34d7b-2607-4aa5-89ea-4e33cf69f92d</th>\n",
       "      <td>[0, 1, 0.0, 0.0, 0.0, 0.1180029233728225]</td>\n",
       "      <td>[0, 1, 0.0, 0.0, 0.0, 0.0018788741342397083]</td>\n",
       "      <td>[0, 1, 0.0, 0.0, 1.0, 0.0078610110306303]</td>\n",
       "      <td>[0, 1, 0.0, 0.0, 0.0, 0.025951479134026224]</td>\n",
       "      <td>[0, 1, 0.0, 0.0, 0.0, 0.02424946477959682]</td>\n",
       "      <td>[0, 1, 0.0, 0.0, 0.0, 0.029680283414677683]</td>\n",
       "      <td>[1, 1, 0.5, 0.5, 1.0, 0.043854074301254264]</td>\n",
       "      <td>[0, 1, 0.0, 0.0, 0.0, 0.05236284778021841]</td>\n",
       "      <td>[0, 1, 0.0, 0.0, 1.0, 0.02443668620398056]</td>\n",
       "      <td>[0, 1, 0.0, 0.0, 0.0, 0.018895820636294896]</td>\n",
       "      <td>...</td>\n",
       "      <td>[0, 1, 0.0, 0.0, 0.0, 0.04525033170261317]</td>\n",
       "      <td>[0, 1, 0.0, 0.0, 0.0, 0.007645845139455911]</td>\n",
       "      <td>[0, 1, 0.0, 0.0, 0.0, 0.05848482575420287]</td>\n",
       "      <td>[0, 1, 0.0, 0.0, 0.0, 0.042429337668532456]</td>\n",
       "      <td>[0, 1, 0.0, 0.0, 0.0, 0.005579608015897354]</td>\n",
       "      <td>[0, 1, 0.0, 0.0, 0.0, 0.023345022647603055]</td>\n",
       "      <td>[0, 1, 0.0, 0.0, 0.0, 0.09717943974549616]</td>\n",
       "      <td>[0, 1, 0.0, 0.0, 0.0, 0.02488214687262122]</td>\n",
       "      <td>[0, 1, 0.0, 0.0, 0.0, 0.00878349670932145]</td>\n",
       "      <td>[0, 1, 0.0, 0.0, 0.0, 0.016415190915531293]</td>\n",
       "    </tr>\n",
       "    <tr>\n",
       "      <th>e94c1597-1a58-4165-8fdb-d9a7f62a03ae</th>\n",
       "      <td>[0, 1, 0.0, 0.0, 0.0, 0.09625424968326926]</td>\n",
       "      <td>[0, 1, 0.0, 0.0, 0.0, 0.07286857509410648]</td>\n",
       "      <td>[0, 1, 0.0, 0.0, 0.0, 0.07605655160045098]</td>\n",
       "      <td>[0, 1, 0.0, 0.0, 0.0, 0.0507881318061011]</td>\n",
       "      <td>[0, 1, 0.0, 0.0, 0.0, 0.06947840983713195]</td>\n",
       "      <td>[0, 1, 0.0, 0.0, 0.0, 0.1024043430690755]</td>\n",
       "      <td>[0, 1, 0.0, 0.0, 0.0, 0.09421172129884814]</td>\n",
       "      <td>[1, 1, 1.0, 1.0, 1.0, 0.04571323280251301]</td>\n",
       "      <td>[0, 1, 0.0, 0.0, 0.0, 0.09223753044488169]</td>\n",
       "      <td>[0, 1, 0.0, 0.0, 0.0, 0.07891549839909352]</td>\n",
       "      <td>...</td>\n",
       "      <td>[0, 1, 0.0, 0.0, 0.0, 0.11803402568998406]</td>\n",
       "      <td>[0, 1, 0.0, 0.0, 0.0, 0.08066596309319028]</td>\n",
       "      <td>[0, 1, 0.0, 0.0, 0.0, 0.06153244297050313]</td>\n",
       "      <td>[0, 0, 0.0, 0.0, 0.0, 0.04577193546034388]</td>\n",
       "      <td>[0, 0, 0.0, 0.0, 0.0, 0.07613561445283358]</td>\n",
       "      <td>[0, 0, 0.0, 0.0, 0.0, 0.0915095048029705]</td>\n",
       "      <td>[0, 0, 0.0, 0.0, 0.0, 0.16827690853902533]</td>\n",
       "      <td>[0, 1, 0.0, 0.0, 0.0, 0.0931001943787158]</td>\n",
       "      <td>[0, 1, 0.0, 0.0, 0.0, 0.08163547379653378]</td>\n",
       "      <td>[0, 1, 0.0, 0.0, 0.0, 0.05796595664853369]</td>\n",
       "    </tr>\n",
       "    <tr>\n",
       "      <th>4c845bc0-4c79-4105-a2c9-09fbe5275fbd</th>\n",
       "      <td>[0, 1, 0.0, 0.0, 0.0, 0.10928696152967253]</td>\n",
       "      <td>[0, 1, 0.0, 0.0, 0.0, 0.013929347312445564]</td>\n",
       "      <td>[0, 1, 0.0, 0.0, 1.0, 0.022321289384140127]</td>\n",
       "      <td>[0, 1, 0.0, 0.0, 0.0, 0.02869452334481781]</td>\n",
       "      <td>[0, 1, 0.0, 0.0, 0.0, 0.014932892679635075]</td>\n",
       "      <td>[0, 1, 0.0, 0.0, 0.0, 0.03309903959211242]</td>\n",
       "      <td>[0, 1, 0.0, 0.0, 1.0, 0.057483588091378955]</td>\n",
       "      <td>[0, 1, 0.0, 0.0, 0.0, 0.04889059838349021]</td>\n",
       "      <td>[1, 1, 0.0, 0.5, 1.0, 0.034563970155294214]</td>\n",
       "      <td>[0, 1, 0.0, 0.0, 0.0, 0.033267391554870344]</td>\n",
       "      <td>...</td>\n",
       "      <td>[0, 1, 0.0, 0.0, 0.0, 0.04040191175918562]</td>\n",
       "      <td>[0, 1, 0.0, 0.0, 0.0, 0.011658383664824494]</td>\n",
       "      <td>[0, 1, 0.0, 0.0, 0.0, 0.050674359609796146]</td>\n",
       "      <td>[0, 1, 0.0, 0.0, 0.0, 0.04035642201324916]</td>\n",
       "      <td>[0, 1, 0.0, 0.0, 0.0, 0.01979530914737194]</td>\n",
       "      <td>[0, 1, 0.0, 0.0, 0.0, 0.03345013770897268]</td>\n",
       "      <td>[0, 1, 0.0, 0.0, 0.0, 0.09813065554126627]</td>\n",
       "      <td>[0, 1, 0.0, 0.0, 0.0, 0.034629700449887606]</td>\n",
       "      <td>[0, 1, 0.0, 0.0, 0.0, 0.011283380777831748]</td>\n",
       "      <td>[0, 1, 0.0, 0.0, 0.0, 0.027425083370286964]</td>\n",
       "    </tr>\n",
       "    <tr>\n",
       "      <th>87709c06-002a-4b0b-99b6-eb8dd1be9606</th>\n",
       "      <td>[0, 1, 0.0, 0.0, 1.0, 0.13477721764195233]</td>\n",
       "      <td>[0, 1, 0.0, 0.0, 0.75, 0.021533836661649472]</td>\n",
       "      <td>[0, 1, 0.0, 0.0, 0.0, 0.01698454610598312]</td>\n",
       "      <td>[0, 1, 0.0, 0.0, 0.75, 0.046034935945118746]</td>\n",
       "      <td>[0, 1, 0.0, 0.0, 0.75, 0.04011299639199269]</td>\n",
       "      <td>[0, 1, 0.0, 0.0, 0.75, 0.009735797701268646]</td>\n",
       "      <td>[0, 1, 0.0, 0.0, 0.0, 0.036787781694713674]</td>\n",
       "      <td>[0, 1, 0.0, 0.0, 0.0, 0.07168186999542824]</td>\n",
       "      <td>[0, 1, 0.0, 0.0, 0.0, 0.010983415505204933]</td>\n",
       "      <td>[1, 1, 0.5, 0.5, 1.0, 0.01987624942688763]</td>\n",
       "      <td>...</td>\n",
       "      <td>[0, 1, 0.0, 0.0, 1.0, 0.02992410702056447]</td>\n",
       "      <td>[0, 1, 0.0, 0.0, 1.0, 0.01563269961256718]</td>\n",
       "      <td>[0, 1, 0.0, 0.0, 1.0, 0.07588789323720492]</td>\n",
       "      <td>[0, 1, 0.0, 0.0, 1.0, 0.06203561652409685]</td>\n",
       "      <td>[0, 1, 0.0, 0.0, 1.0, 0.016759370908544853]</td>\n",
       "      <td>[0, 1, 0.0, 0.0, 1.0, 0.010149783381583014]</td>\n",
       "      <td>[0, 1, 0.0, 0.0, 0.0, 0.077236753073335]</td>\n",
       "      <td>[0, 1, 0.0, 0.0, 0.75, 0.010538635141008676]</td>\n",
       "      <td>[0, 1, 0.0, 0.0, 1.0, 0.015362924362468394]</td>\n",
       "      <td>[0, 1, 0.0, 0.0, 0.75, 0.03500255057870758]</td>\n",
       "    </tr>\n",
       "  </tbody>\n",
       "</table>\n",
       "<p>5 rows × 527 columns</p>\n",
       "</div>"
      ],
      "text/plain": [
       "                                            55975b31-3cc2-4534-a097-85b1eab6cd53  \\\n",
       "d833bf9c-e2b4-4843-a897-1eaa0baeffa6  [1, 1, 0.0, 1.0, 1.0, 0.12722622860914465]   \n",
       "9cc34d7b-2607-4aa5-89ea-4e33cf69f92d   [0, 1, 0.0, 0.0, 0.0, 0.1180029233728225]   \n",
       "e94c1597-1a58-4165-8fdb-d9a7f62a03ae  [0, 1, 0.0, 0.0, 0.0, 0.09625424968326926]   \n",
       "4c845bc0-4c79-4105-a2c9-09fbe5275fbd  [0, 1, 0.0, 0.0, 0.0, 0.10928696152967253]   \n",
       "87709c06-002a-4b0b-99b6-eb8dd1be9606  [0, 1, 0.0, 0.0, 1.0, 0.13477721764195233]   \n",
       "\n",
       "                                              bbaf834d-f8e1-4187-84b4-a35484625c09  \\\n",
       "d833bf9c-e2b4-4843-a897-1eaa0baeffa6     [1, 1, 0.0, 1.0, 1.0, 0.0418975413416725]   \n",
       "9cc34d7b-2607-4aa5-89ea-4e33cf69f92d  [0, 1, 0.0, 0.0, 0.0, 0.0018788741342397083]   \n",
       "e94c1597-1a58-4165-8fdb-d9a7f62a03ae    [0, 1, 0.0, 0.0, 0.0, 0.07286857509410648]   \n",
       "4c845bc0-4c79-4105-a2c9-09fbe5275fbd   [0, 1, 0.0, 0.0, 0.0, 0.013929347312445564]   \n",
       "87709c06-002a-4b0b-99b6-eb8dd1be9606  [0, 1, 0.0, 0.0, 0.75, 0.021533836661649472]   \n",
       "\n",
       "                                              50ad741e-6c36-4fbb-9b48-0fa901e9f63b  \\\n",
       "d833bf9c-e2b4-4843-a897-1eaa0baeffa6  [1, 1, 0.25, 0.25, 1.0, 0.04497916739972355]   \n",
       "9cc34d7b-2607-4aa5-89ea-4e33cf69f92d     [0, 1, 0.0, 0.0, 1.0, 0.0078610110306303]   \n",
       "e94c1597-1a58-4165-8fdb-d9a7f62a03ae    [0, 1, 0.0, 0.0, 0.0, 0.07605655160045098]   \n",
       "4c845bc0-4c79-4105-a2c9-09fbe5275fbd   [0, 1, 0.0, 0.0, 1.0, 0.022321289384140127]   \n",
       "87709c06-002a-4b0b-99b6-eb8dd1be9606    [0, 1, 0.0, 0.0, 0.0, 0.01698454610598312]   \n",
       "\n",
       "                                              383f820f-0e0c-4aee-bfb4-6ebd5f6c2b63  \\\n",
       "d833bf9c-e2b4-4843-a897-1eaa0baeffa6   [1, 1, 0.0, 0.5, 1.0, 0.060832545276179754]   \n",
       "9cc34d7b-2607-4aa5-89ea-4e33cf69f92d   [0, 1, 0.0, 0.0, 0.0, 0.025951479134026224]   \n",
       "e94c1597-1a58-4165-8fdb-d9a7f62a03ae     [0, 1, 0.0, 0.0, 0.0, 0.0507881318061011]   \n",
       "4c845bc0-4c79-4105-a2c9-09fbe5275fbd    [0, 1, 0.0, 0.0, 0.0, 0.02869452334481781]   \n",
       "87709c06-002a-4b0b-99b6-eb8dd1be9606  [0, 1, 0.0, 0.0, 0.75, 0.046034935945118746]   \n",
       "\n",
       "                                             ca3fcf40-66cf-44cd-a51e-3cff9e189cf5  \\\n",
       "d833bf9c-e2b4-4843-a897-1eaa0baeffa6   [1, 1, 0.0, 1.0, 1.0, 0.04372866162543565]   \n",
       "9cc34d7b-2607-4aa5-89ea-4e33cf69f92d   [0, 1, 0.0, 0.0, 0.0, 0.02424946477959682]   \n",
       "e94c1597-1a58-4165-8fdb-d9a7f62a03ae   [0, 1, 0.0, 0.0, 0.0, 0.06947840983713195]   \n",
       "4c845bc0-4c79-4105-a2c9-09fbe5275fbd  [0, 1, 0.0, 0.0, 0.0, 0.014932892679635075]   \n",
       "87709c06-002a-4b0b-99b6-eb8dd1be9606  [0, 1, 0.0, 0.0, 0.75, 0.04011299639199269]   \n",
       "\n",
       "                                              d0399103-8325-4b32-9476-3d3729793829  \\\n",
       "d833bf9c-e2b4-4843-a897-1eaa0baeffa6    [1, 1, 0.0, 1.0, 1.0, 0.03095686040234366]   \n",
       "9cc34d7b-2607-4aa5-89ea-4e33cf69f92d   [0, 1, 0.0, 0.0, 0.0, 0.029680283414677683]   \n",
       "e94c1597-1a58-4165-8fdb-d9a7f62a03ae     [0, 1, 0.0, 0.0, 0.0, 0.1024043430690755]   \n",
       "4c845bc0-4c79-4105-a2c9-09fbe5275fbd    [0, 1, 0.0, 0.0, 0.0, 0.03309903959211242]   \n",
       "87709c06-002a-4b0b-99b6-eb8dd1be9606  [0, 1, 0.0, 0.0, 0.75, 0.009735797701268646]   \n",
       "\n",
       "                                             ae73aff3-91db-470d-bc96-ea6d2e9fe137  \\\n",
       "d833bf9c-e2b4-4843-a897-1eaa0baeffa6   [0, 1, 0.0, 0.0, 1.0, 0.06947123914892452]   \n",
       "9cc34d7b-2607-4aa5-89ea-4e33cf69f92d  [1, 1, 0.5, 0.5, 1.0, 0.043854074301254264]   \n",
       "e94c1597-1a58-4165-8fdb-d9a7f62a03ae   [0, 1, 0.0, 0.0, 0.0, 0.09421172129884814]   \n",
       "4c845bc0-4c79-4105-a2c9-09fbe5275fbd  [0, 1, 0.0, 0.0, 1.0, 0.057483588091378955]   \n",
       "87709c06-002a-4b0b-99b6-eb8dd1be9606  [0, 1, 0.0, 0.0, 0.0, 0.036787781694713674]   \n",
       "\n",
       "                                            d640f97c-94eb-4330-9772-f19d23865d19  \\\n",
       "d833bf9c-e2b4-4843-a897-1eaa0baeffa6  [0, 1, 0.0, 0.0, 0.0, 0.07743419793958785]   \n",
       "9cc34d7b-2607-4aa5-89ea-4e33cf69f92d  [0, 1, 0.0, 0.0, 0.0, 0.05236284778021841]   \n",
       "e94c1597-1a58-4165-8fdb-d9a7f62a03ae  [1, 1, 1.0, 1.0, 1.0, 0.04571323280251301]   \n",
       "4c845bc0-4c79-4105-a2c9-09fbe5275fbd  [0, 1, 0.0, 0.0, 0.0, 0.04889059838349021]   \n",
       "87709c06-002a-4b0b-99b6-eb8dd1be9606  [0, 1, 0.0, 0.0, 0.0, 0.07168186999542824]   \n",
       "\n",
       "                                             db848229-540e-455a-baf4-55a73676b869  \\\n",
       "d833bf9c-e2b4-4843-a897-1eaa0baeffa6   [0, 1, 0.0, 0.0, 1.0, 0.04396994737308485]   \n",
       "9cc34d7b-2607-4aa5-89ea-4e33cf69f92d   [0, 1, 0.0, 0.0, 1.0, 0.02443668620398056]   \n",
       "e94c1597-1a58-4165-8fdb-d9a7f62a03ae   [0, 1, 0.0, 0.0, 0.0, 0.09223753044488169]   \n",
       "4c845bc0-4c79-4105-a2c9-09fbe5275fbd  [1, 1, 0.0, 0.5, 1.0, 0.034563970155294214]   \n",
       "87709c06-002a-4b0b-99b6-eb8dd1be9606  [0, 1, 0.0, 0.0, 0.0, 0.010983415505204933]   \n",
       "\n",
       "                                             8a4dc512-1865-45f1-90d6-aeb015495ac1  \\\n",
       "d833bf9c-e2b4-4843-a897-1eaa0baeffa6  [0, 1, 0.0, 0.0, 0.75, 0.05230032133944178]   \n",
       "9cc34d7b-2607-4aa5-89ea-4e33cf69f92d  [0, 1, 0.0, 0.0, 0.0, 0.018895820636294896]   \n",
       "e94c1597-1a58-4165-8fdb-d9a7f62a03ae   [0, 1, 0.0, 0.0, 0.0, 0.07891549839909352]   \n",
       "4c845bc0-4c79-4105-a2c9-09fbe5275fbd  [0, 1, 0.0, 0.0, 0.0, 0.033267391554870344]   \n",
       "87709c06-002a-4b0b-99b6-eb8dd1be9606   [1, 1, 0.5, 0.5, 1.0, 0.01987624942688763]   \n",
       "\n",
       "                                      ...  \\\n",
       "d833bf9c-e2b4-4843-a897-1eaa0baeffa6  ...   \n",
       "9cc34d7b-2607-4aa5-89ea-4e33cf69f92d  ...   \n",
       "e94c1597-1a58-4165-8fdb-d9a7f62a03ae  ...   \n",
       "4c845bc0-4c79-4105-a2c9-09fbe5275fbd  ...   \n",
       "87709c06-002a-4b0b-99b6-eb8dd1be9606  ...   \n",
       "\n",
       "                                             1345f834-90ee-4410-9e95-64056dc7ccc6  \\\n",
       "d833bf9c-e2b4-4843-a897-1eaa0baeffa6  [0, 1, 0.0, 0.0, 1.0, 0.015835977128241904]   \n",
       "9cc34d7b-2607-4aa5-89ea-4e33cf69f92d   [0, 1, 0.0, 0.0, 0.0, 0.04525033170261317]   \n",
       "e94c1597-1a58-4165-8fdb-d9a7f62a03ae   [0, 1, 0.0, 0.0, 0.0, 0.11803402568998406]   \n",
       "4c845bc0-4c79-4105-a2c9-09fbe5275fbd   [0, 1, 0.0, 0.0, 0.0, 0.04040191175918562]   \n",
       "87709c06-002a-4b0b-99b6-eb8dd1be9606   [0, 1, 0.0, 0.0, 1.0, 0.02992410702056447]   \n",
       "\n",
       "                                             0eff44f1-f239-4c33-8689-fbb804a0b4be  \\\n",
       "d833bf9c-e2b4-4843-a897-1eaa0baeffa6  [0, 1, 0.0, 0.0, 0.75, 0.03443406712245344]   \n",
       "9cc34d7b-2607-4aa5-89ea-4e33cf69f92d  [0, 1, 0.0, 0.0, 0.0, 0.007645845139455911]   \n",
       "e94c1597-1a58-4165-8fdb-d9a7f62a03ae   [0, 1, 0.0, 0.0, 0.0, 0.08066596309319028]   \n",
       "4c845bc0-4c79-4105-a2c9-09fbe5275fbd  [0, 1, 0.0, 0.0, 0.0, 0.011658383664824494]   \n",
       "87709c06-002a-4b0b-99b6-eb8dd1be9606   [0, 1, 0.0, 0.0, 1.0, 0.01563269961256718]   \n",
       "\n",
       "                                             e1e2e876-911f-4b18-b306-abbcc2910cda  \\\n",
       "d833bf9c-e2b4-4843-a897-1eaa0baeffa6  [0, 1, 0.0, 0.0, 0.75, 0.07422113103329166]   \n",
       "9cc34d7b-2607-4aa5-89ea-4e33cf69f92d   [0, 1, 0.0, 0.0, 0.0, 0.05848482575420287]   \n",
       "e94c1597-1a58-4165-8fdb-d9a7f62a03ae   [0, 1, 0.0, 0.0, 0.0, 0.06153244297050313]   \n",
       "4c845bc0-4c79-4105-a2c9-09fbe5275fbd  [0, 1, 0.0, 0.0, 0.0, 0.050674359609796146]   \n",
       "87709c06-002a-4b0b-99b6-eb8dd1be9606   [0, 1, 0.0, 0.0, 1.0, 0.07588789323720492]   \n",
       "\n",
       "                                             f3901814-7b38-44e8-9942-243712c64d0a  \\\n",
       "d833bf9c-e2b4-4843-a897-1eaa0baeffa6   [0, 1, 0.0, 0.0, 1.0, 0.07045161146415625]   \n",
       "9cc34d7b-2607-4aa5-89ea-4e33cf69f92d  [0, 1, 0.0, 0.0, 0.0, 0.042429337668532456]   \n",
       "e94c1597-1a58-4165-8fdb-d9a7f62a03ae   [0, 0, 0.0, 0.0, 0.0, 0.04577193546034388]   \n",
       "4c845bc0-4c79-4105-a2c9-09fbe5275fbd   [0, 1, 0.0, 0.0, 0.0, 0.04035642201324916]   \n",
       "87709c06-002a-4b0b-99b6-eb8dd1be9606   [0, 1, 0.0, 0.0, 1.0, 0.06203561652409685]   \n",
       "\n",
       "                                             356a15bb-13d5-4696-b46f-1ed8c0dcc458  \\\n",
       "d833bf9c-e2b4-4843-a897-1eaa0baeffa6  [0, 1, 0.0, 0.0, 1.0, 0.043132435762261445]   \n",
       "9cc34d7b-2607-4aa5-89ea-4e33cf69f92d  [0, 1, 0.0, 0.0, 0.0, 0.005579608015897354]   \n",
       "e94c1597-1a58-4165-8fdb-d9a7f62a03ae   [0, 0, 0.0, 0.0, 0.0, 0.07613561445283358]   \n",
       "4c845bc0-4c79-4105-a2c9-09fbe5275fbd   [0, 1, 0.0, 0.0, 0.0, 0.01979530914737194]   \n",
       "87709c06-002a-4b0b-99b6-eb8dd1be9606  [0, 1, 0.0, 0.0, 1.0, 0.016759370908544853]   \n",
       "\n",
       "                                             d7be1087-e478-45a0-8d81-e004edad4252  \\\n",
       "d833bf9c-e2b4-4843-a897-1eaa0baeffa6    [0, 1, 0.0, 0.0, 1.0, 0.0433354257086734]   \n",
       "9cc34d7b-2607-4aa5-89ea-4e33cf69f92d  [0, 1, 0.0, 0.0, 0.0, 0.023345022647603055]   \n",
       "e94c1597-1a58-4165-8fdb-d9a7f62a03ae    [0, 0, 0.0, 0.0, 0.0, 0.0915095048029705]   \n",
       "4c845bc0-4c79-4105-a2c9-09fbe5275fbd   [0, 1, 0.0, 0.0, 0.0, 0.03345013770897268]   \n",
       "87709c06-002a-4b0b-99b6-eb8dd1be9606  [0, 1, 0.0, 0.0, 1.0, 0.010149783381583014]   \n",
       "\n",
       "                                            c9b8f2f7-64a6-4583-a3e4-e4e1ef417fcb  \\\n",
       "d833bf9c-e2b4-4843-a897-1eaa0baeffa6   [0, 1, 0.0, 0.0, 0.0, 0.0756190115034312]   \n",
       "9cc34d7b-2607-4aa5-89ea-4e33cf69f92d  [0, 1, 0.0, 0.0, 0.0, 0.09717943974549616]   \n",
       "e94c1597-1a58-4165-8fdb-d9a7f62a03ae  [0, 0, 0.0, 0.0, 0.0, 0.16827690853902533]   \n",
       "4c845bc0-4c79-4105-a2c9-09fbe5275fbd  [0, 1, 0.0, 0.0, 0.0, 0.09813065554126627]   \n",
       "87709c06-002a-4b0b-99b6-eb8dd1be9606    [0, 1, 0.0, 0.0, 0.0, 0.077236753073335]   \n",
       "\n",
       "                                              3479fff9-d576-4a15-8d4c-d5135a7a913e  \\\n",
       "d833bf9c-e2b4-4843-a897-1eaa0baeffa6    [0, 1, 0.0, 0.0, 1.0, 0.04328841145236386]   \n",
       "9cc34d7b-2607-4aa5-89ea-4e33cf69f92d    [0, 1, 0.0, 0.0, 0.0, 0.02488214687262122]   \n",
       "e94c1597-1a58-4165-8fdb-d9a7f62a03ae     [0, 1, 0.0, 0.0, 0.0, 0.0931001943787158]   \n",
       "4c845bc0-4c79-4105-a2c9-09fbe5275fbd   [0, 1, 0.0, 0.0, 0.0, 0.034629700449887606]   \n",
       "87709c06-002a-4b0b-99b6-eb8dd1be9606  [0, 1, 0.0, 0.0, 0.75, 0.010538635141008676]   \n",
       "\n",
       "                                             2d806798-2da6-4083-8ae3-9aacf75687df  \\\n",
       "d833bf9c-e2b4-4843-a897-1eaa0baeffa6  [0, 1, 0.0, 0.0, 1.0, 0.033283339471036455]   \n",
       "9cc34d7b-2607-4aa5-89ea-4e33cf69f92d   [0, 1, 0.0, 0.0, 0.0, 0.00878349670932145]   \n",
       "e94c1597-1a58-4165-8fdb-d9a7f62a03ae   [0, 1, 0.0, 0.0, 0.0, 0.08163547379653378]   \n",
       "4c845bc0-4c79-4105-a2c9-09fbe5275fbd  [0, 1, 0.0, 0.0, 0.0, 0.011283380777831748]   \n",
       "87709c06-002a-4b0b-99b6-eb8dd1be9606  [0, 1, 0.0, 0.0, 1.0, 0.015362924362468394]   \n",
       "\n",
       "                                             7fd9ea53-fad6-4203-842b-80b82bda0235  \n",
       "d833bf9c-e2b4-4843-a897-1eaa0baeffa6   [0, 1, 0.0, 0.0, 1.0, 0.05778907275479786]  \n",
       "9cc34d7b-2607-4aa5-89ea-4e33cf69f92d  [0, 1, 0.0, 0.0, 0.0, 0.016415190915531293]  \n",
       "e94c1597-1a58-4165-8fdb-d9a7f62a03ae   [0, 1, 0.0, 0.0, 0.0, 0.05796595664853369]  \n",
       "4c845bc0-4c79-4105-a2c9-09fbe5275fbd  [0, 1, 0.0, 0.0, 0.0, 0.027425083370286964]  \n",
       "87709c06-002a-4b0b-99b6-eb8dd1be9606  [0, 1, 0.0, 0.0, 0.75, 0.03500255057870758]  \n",
       "\n",
       "[5 rows x 527 columns]"
      ]
     },
     "execution_count": 9,
     "metadata": {},
     "output_type": "execute_result"
    }
   ],
   "source": [
    "# createa a dataframe with row indices as project ids and column indices as publication ids\n",
    "# if publication is in project, then 1, else 0\n",
    "# if publication date is before project start date, then 0, else 1\n",
    "# ratio of intersection of organisations from project and publication to organisations from publication\n",
    "# ratio of intersection of authors from project and publication to authors from publication\n",
    "# ratio of intersection of disciplines from project and publication to disciplines from publication\n",
    "\n",
    "pub_data = []\n",
    "for pro_id in clean_data.keys():\n",
    "    for pub_id in clean_data[pro_id]['publications'].keys():\n",
    "        pub_data.append((pub_id, clean_data[pro_id]['publications'][pub_id]))\n",
    "\n",
    "data_matrix = [[0.] * len(pub_data) for _ in range(len(clean_data))]\n",
    "for i, pro_id in enumerate(clean_data.keys()):\n",
    "    for j, pub_id in enumerate([pub[0] for pub in pub_data]):\n",
    "        belongs = 1 if pub_id in clean_data[pro_id]['publications'].keys() else 0\n",
    "        date = 1 if clean_data[pro_id]['start_date'] <= pub_data[j][1]['date'] else 0\n",
    "        org = len(set(clean_data[pro_id]['organizations']) & set(pub_data[j][1]['organizations'])) / len(set(pub_data[j][1]['organizations']))\n",
    "        auth = len(set(clean_data[pro_id]['authors']) & set(pub_data[j][1]['authors'])) / len(set(pub_data[j][1]['organizations']))\n",
    "        dis = len(set(clean_data[pro_id]['disciplines']) & set(pub_data[j][1]['disciplines'])) / len(set(pub_data[j][1]['disciplines']))\n",
    "        distance = distance_matrix[i, j]\n",
    "        data_matrix[i][j] = [belongs, date, org, auth, dis, distance]\n",
    "\n",
    "df = pd.DataFrame(data_matrix, index=clean_data.keys(), columns=[pub[0] for pub in pub_data])\n",
    "df.to_csv('xgb_data_bertopic.csv')\n",
    "df.head()"
   ]
  },
  {
   "cell_type": "code",
   "execution_count": 10,
   "metadata": {},
   "outputs": [
    {
     "name": "stdout",
     "output_type": "stream",
     "text": [
      "(147, 527, 6)\n",
      "(77469, 6)\n"
     ]
    },
    {
     "data": {
      "text/plain": [
       "array([[1.00000000e+00, 1.00000000e+00, 0.00000000e+00, ...,\n",
       "        1.00000000e+00, 1.27226229e-01, 1.00000000e+00],\n",
       "       [0.00000000e+00, 1.00000000e+00, 0.00000000e+00, ...,\n",
       "        0.00000000e+00, 1.18002923e-01, 2.00000000e+00],\n",
       "       [0.00000000e+00, 1.00000000e+00, 0.00000000e+00, ...,\n",
       "        0.00000000e+00, 9.62542497e-02, 3.00000000e+00],\n",
       "       ...,\n",
       "       [0.00000000e+00, 1.00000000e+00, 0.00000000e+00, ...,\n",
       "        7.50000000e-01, 1.05898442e-02, 1.45000000e+02],\n",
       "       [0.00000000e+00, 1.00000000e+00, 0.00000000e+00, ...,\n",
       "        0.00000000e+00, 6.17339655e-02, 1.46000000e+02],\n",
       "       [1.00000000e+00, 1.00000000e+00, 1.00000000e+00, ...,\n",
       "        1.00000000e+00, 7.58010127e-02, 1.47000000e+02]])"
      ]
     },
     "execution_count": 10,
     "metadata": {},
     "output_type": "execute_result"
    }
   ],
   "source": [
    "gb_raw_shape = (df.shape[0], df.shape[1], len(df.iloc[0, 0]))\n",
    "print(gb_raw_shape)\n",
    "\n",
    "gb_data = []\n",
    "for i in range(len(list(df))):\n",
    "    gb_data.extend(df.iloc[:, i].values.tolist())\n",
    "gb_data = np.array(gb_data)\n",
    "print(gb_data.shape)\n",
    "\n",
    "project_numbers = np.array(list(range(1, gb_raw_shape[0] + 1)) * gb_raw_shape[1]).reshape(-1, 1)\n",
    "gb_data = np.hstack((gb_data, project_numbers))\n",
    "gb_data"
   ]
  },
  {
   "cell_type": "code",
   "execution_count": 11,
   "metadata": {},
   "outputs": [],
   "source": [
    "X = gb_data[:, 1:]\n",
    "y = gb_data[:, 0]\n",
    "\n",
    "split = len(train_pub_data) * len(clean_data)\n",
    "X_train = X[:split]\n",
    "X_test = X[split:]\n",
    "y_train = y[:split]\n",
    "y_test = y[split:]"
   ]
  },
  {
   "cell_type": "code",
   "execution_count": 12,
   "metadata": {},
   "outputs": [
    {
     "name": "stdout",
     "output_type": "stream",
     "text": [
      "[0]\ttest-logloss:0.14350\n",
      "[100]\ttest-logloss:0.05806\n",
      "[200]\ttest-logloss:0.03078\n",
      "[300]\ttest-logloss:0.02208\n",
      "[400]\ttest-logloss:0.01970\n",
      "[500]\ttest-logloss:0.02036\n",
      "[588]\ttest-logloss:0.02083\n"
     ]
    }
   ],
   "source": [
    "params = {\n",
    "    'objective': 'binary:logistic',\n",
    "    'max_depth': 3,\n",
    "    'learning_rate': 0.01\n",
    "}\n",
    "\n",
    "# params_constrained = params.copy()\n",
    "# params_constrained['interaction_constraints'] = '[[0, 1, 2, 3, 4]]'\n",
    "feature_names = ['date criterion', 'organisation ratio', 'author ratio', 'discipline ratio', 'distance', 'project number']\n",
    "dtrain = xgb.DMatrix(X_train, label=y_train, feature_names=feature_names)\n",
    "dtest = xgb.DMatrix(X_test, label=y_test, feature_names=feature_names)\n",
    "\n",
    "num_boost_round = 10000\n",
    "xgb_model = xgb.train(params, \n",
    "                      dtrain, \n",
    "                      num_boost_round,\n",
    "                      evals=[(dtest, 'test')],\n",
    "                      early_stopping_rounds=200, \n",
    "                      verbose_eval=100)"
   ]
  },
  {
   "cell_type": "code",
   "execution_count": 13,
   "metadata": {},
   "outputs": [
    {
     "name": "stdout",
     "output_type": "stream",
     "text": [
      "[0]\ttrain-logloss:0.14545+0.00038\ttest-logloss:0.14546+0.00115\n",
      "[100]\ttrain-logloss:0.05782+0.00016\ttest-logloss:0.05805+0.00060\n",
      "[200]\ttrain-logloss:0.02862+0.00015\ttest-logloss:0.02898+0.00047\n",
      "[300]\ttrain-logloss:0.01813+0.00015\ttest-logloss:0.01858+0.00052\n",
      "[400]\ttrain-logloss:0.01415+0.00017\ttest-logloss:0.01470+0.00058\n",
      "[500]\ttrain-logloss:0.01244+0.00016\ttest-logloss:0.01311+0.00067\n",
      "[600]\ttrain-logloss:0.01154+0.00016\ttest-logloss:0.01229+0.00071\n",
      "[700]\ttrain-logloss:0.01085+0.00019\ttest-logloss:0.01168+0.00082\n",
      "[800]\ttrain-logloss:0.01030+0.00024\ttest-logloss:0.01123+0.00086\n",
      "[900]\ttrain-logloss:0.00986+0.00025\ttest-logloss:0.01092+0.00089\n",
      "[1000]\ttrain-logloss:0.00946+0.00027\ttest-logloss:0.01068+0.00092\n",
      "[1100]\ttrain-logloss:0.00911+0.00028\ttest-logloss:0.01048+0.00095\n",
      "[1200]\ttrain-logloss:0.00879+0.00028\ttest-logloss:0.01030+0.00103\n",
      "[1300]\ttrain-logloss:0.00851+0.00029\ttest-logloss:0.01013+0.00103\n",
      "[1400]\ttrain-logloss:0.00827+0.00029\ttest-logloss:0.01000+0.00105\n",
      "[1500]\ttrain-logloss:0.00805+0.00027\ttest-logloss:0.00990+0.00108\n",
      "[1600]\ttrain-logloss:0.00786+0.00027\ttest-logloss:0.00981+0.00109\n",
      "[1700]\ttrain-logloss:0.00768+0.00028\ttest-logloss:0.00973+0.00111\n",
      "[1800]\ttrain-logloss:0.00751+0.00029\ttest-logloss:0.00966+0.00113\n",
      "[1900]\ttrain-logloss:0.00735+0.00030\ttest-logloss:0.00960+0.00116\n",
      "[2000]\ttrain-logloss:0.00720+0.00031\ttest-logloss:0.00954+0.00115\n",
      "[2100]\ttrain-logloss:0.00707+0.00031\ttest-logloss:0.00949+0.00116\n",
      "[2200]\ttrain-logloss:0.00693+0.00030\ttest-logloss:0.00945+0.00119\n",
      "[2300]\ttrain-logloss:0.00681+0.00028\ttest-logloss:0.00942+0.00121\n",
      "[2400]\ttrain-logloss:0.00670+0.00029\ttest-logloss:0.00938+0.00123\n",
      "[2500]\ttrain-logloss:0.00660+0.00029\ttest-logloss:0.00936+0.00125\n",
      "[2600]\ttrain-logloss:0.00650+0.00029\ttest-logloss:0.00932+0.00126\n",
      "[2700]\ttrain-logloss:0.00639+0.00028\ttest-logloss:0.00931+0.00128\n",
      "[2800]\ttrain-logloss:0.00630+0.00028\ttest-logloss:0.00928+0.00130\n",
      "[2900]\ttrain-logloss:0.00620+0.00028\ttest-logloss:0.00927+0.00130\n",
      "[3000]\ttrain-logloss:0.00612+0.00028\ttest-logloss:0.00925+0.00131\n",
      "[3100]\ttrain-logloss:0.00603+0.00027\ttest-logloss:0.00923+0.00134\n",
      "[3200]\ttrain-logloss:0.00596+0.00027\ttest-logloss:0.00923+0.00135\n",
      "[3300]\ttrain-logloss:0.00588+0.00026\ttest-logloss:0.00924+0.00135\n",
      "[3362]\ttrain-logloss:0.00583+0.00026\ttest-logloss:0.00924+0.00136\n"
     ]
    },
    {
     "data": {
      "text/plain": [
       "<matplotlib.legend.Legend at 0x174d7a990>"
      ]
     },
     "execution_count": 13,
     "metadata": {},
     "output_type": "execute_result"
    },
    {
     "data": {
      "image/png": "[encoded data removed]",
      "text/plain": [
       "<Figure size 640x480 with 1 Axes>"
      ]
     },
     "metadata": {},
     "output_type": "display_data"
    }
   ],
   "source": [
    "xgb_cv = xgb.cv(params,\n",
    "                dtrain,\n",
    "                num_boost_round=num_boost_round,\n",
    "                nfold=5,\n",
    "                early_stopping_rounds=200,\n",
    "                verbose_eval=100)\n",
    "\n",
    "# plot xgb_cv\n",
    "fig, ax = plt.subplots()\n",
    "ax.plot(xgb_cv['train-logloss-mean'], label='train')\n",
    "ax.plot(xgb_cv['test-logloss-mean'], label='test')\n",
    "ax.legend()"
   ]
  },
  {
   "cell_type": "code",
   "execution_count": 14,
   "metadata": {},
   "outputs": [],
   "source": [
    "# make prediction\n",
    "y_pred = xgb_model.predict(dtest)\n",
    "\n",
    "# get the projects for highest 3 predictions for each publication\n",
    "project_numbers_pred = []\n",
    "for i in range(0, len(y_pred), gb_raw_shape[0]):\n",
    "    project_numbers_pred.append(list(np.argsort(y_pred[i:i+gb_raw_shape[0]]) + 1)[::-1][:3])"
   ]
  },
  {
   "cell_type": "code",
   "execution_count": 15,
   "metadata": {},
   "outputs": [],
   "source": [
    "project_lists = []\n",
    "for i in range(0, gb_data.shape[0], gb_raw_shape[0]):\n",
    "    pub_belongs = gb_data[i:i + gb_raw_shape[0], 0] * gb_data[i:i + gb_raw_shape[0], -1]\n",
    "    project = sorted(list(pub_belongs[pub_belongs != 0].astype(int)), reverse=True)\n",
    "    project_lists.append(project)\n",
    "\n",
    "project_lists_test = project_lists[len(train_pub_data):]"
   ]
  },
  {
   "cell_type": "code",
   "execution_count": 16,
   "metadata": {},
   "outputs": [
    {
     "name": "stdout",
     "output_type": "stream",
     "text": [
      "0.96\n",
      "[4, 8, 14, 22, 23, 47]\n",
      "[[110, 111, 19], [110, 19, 23], [7, 60, 124], [7, 40, 60], [37, 21, 10], [60, 132, 123]]\n",
      "[[119], [119], [121], [121], [121], [134]]\n"
     ]
    }
   ],
   "source": [
    "# calculate accuracy\n",
    "accuracy_list = []\n",
    "for i, project_list in enumerate(list(project_lists_test)):\n",
    "    ratio = len(set(project_numbers_pred[i]) & set(project_list)) / len(set(project_list))\n",
    "    accuracy_list.append(ratio)\n",
    "\n",
    "accuracy = sum(accuracy_list) / len(accuracy_list)\n",
    "print(accuracy)\n",
    "\n",
    "# get indices of accuracy_list different than 1\n",
    "indices = [i for i, x in enumerate(accuracy_list) if x != 1]\n",
    "print(indices)\n",
    "print([project_numbers_pred[i] for i in indices])\n",
    "print([project_lists_test[i] for i in indices])"
   ]
  },
  {
   "cell_type": "code",
   "execution_count": 17,
   "metadata": {},
   "outputs": [
    {
     "name": "stdout",
     "output_type": "stream",
     "text": [
      "0.8233333333333334\n"
     ]
    }
   ],
   "source": [
    "# make two predictions for each publication\n",
    "y_pred = xgb_model.predict(dtest)\n",
    "\n",
    "# get the projects for the highest prediction for each publication\n",
    "project_numbers_pred = []\n",
    "for i in range(0, len(y_pred), gb_raw_shape[0]):\n",
    "    project_numbers_pred.append(list(np.argsort(y_pred[i:i+gb_raw_shape[0]]) + 1)[::-1][:2])\n",
    "\n",
    "project_lists = []\n",
    "for i in range(0, gb_data.shape[0], gb_raw_shape[0]):\n",
    "    pub_belongs = gb_data[i:i + gb_raw_shape[0], 0] * gb_data[i:i + gb_raw_shape[0], -1]\n",
    "    project = sorted(list(pub_belongs[pub_belongs != 0].astype(int)), reverse=True)\n",
    "    project_lists.append(project)\n",
    "\n",
    "project_lists_test = project_lists[len(train_pub_data):]\n",
    "\n",
    "# calculate accuracy\n",
    "# use y_test as mask for project_numbers_test\n",
    "accuracy_list = []\n",
    "for i, project_list in enumerate(list(project_lists_test)):\n",
    "    ratio = len(set(project_numbers_pred[i]) & set(project_list)) / len(set(project_list))\n",
    "    accuracy_list.append(ratio)\n",
    "\n",
    "accuracy = sum(accuracy_list) / len(accuracy_list)\n",
    "print(accuracy)"
   ]
  },
  {
   "cell_type": "code",
   "execution_count": 18,
   "metadata": {},
   "outputs": [
    {
     "name": "stdout",
     "output_type": "stream",
     "text": [
      "0.64\n"
     ]
    }
   ],
   "source": [
    "# make single prediction for each publication\n",
    "y_pred = xgb_model.predict(dtest)\n",
    "\n",
    "# get the projects for the highest prediction for each publication\n",
    "project_numbers_pred = []\n",
    "for i in range(0, len(y_pred), gb_raw_shape[0]):\n",
    "    project_numbers_pred.append(list(np.argsort(y_pred[i:i+gb_raw_shape[0]]) + 1)[::-1][:1])\n",
    "\n",
    "project_lists = []\n",
    "for i in range(0, gb_data.shape[0], gb_raw_shape[0]):\n",
    "    pub_belongs = gb_data[i:i + gb_raw_shape[0], 0] * gb_data[i:i + gb_raw_shape[0], -1]\n",
    "    project = sorted(list(pub_belongs[pub_belongs != 0].astype(int)), reverse=True)\n",
    "    project_lists.append(project)\n",
    "\n",
    "project_lists_test = project_lists[len(train_pub_data):]\n",
    "\n",
    "# calculate accuracy\n",
    "accuracy_list = []\n",
    "for i, project_list in enumerate(list(project_lists_test)):\n",
    "    accuracy = 1 if project_numbers_pred[i][0] in project_list else 0\n",
    "    accuracy_list.append(accuracy)\n",
    "\n",
    "accuracy = sum(accuracy_list) / len(accuracy_list)\n",
    "print(accuracy)"
   ]
  },
  {
   "cell_type": "code",
   "execution_count": 19,
   "metadata": {},
   "outputs": [
    {
     "data": {
      "image/png": "[encoded data removed]",
      "text/plain": [
       "<Figure size 640x480 with 1 Axes>"
      ]
     },
     "metadata": {},
     "output_type": "display_data"
    }
   ],
   "source": [
    "plot_importance(xgb_model)\n",
    "plt.show()"
   ]
  },
  {
   "cell_type": "code",
   "execution_count": 23,
   "metadata": {},
   "outputs": [
    {
     "name": "stdout",
     "output_type": "stream",
     "text": [
      "[0]\ttest-logloss:0.14350\n"
     ]
    },
    {
     "name": "stdout",
     "output_type": "stream",
     "text": [
      "[100]\ttest-logloss:0.05806\n",
      "[200]\ttest-logloss:0.03078\n",
      "[300]\ttest-logloss:0.02208\n",
      "[400]\ttest-logloss:0.01970\n",
      "[500]\ttest-logloss:0.02048\n",
      "[588]\ttest-logloss:0.02087\n",
      "0.96\n"
     ]
    },
    {
     "data": {
      "image/png": "[encoded data removed]",
      "text/plain": [
       "<Figure size 640x480 with 1 Axes>"
      ]
     },
     "metadata": {},
     "output_type": "display_data"
    }
   ],
   "source": [
    "# drop date column\n",
    "gb_data_no_date = np.delete(gb_data, 1, 1)\n",
    "\n",
    "X = gb_data_no_date[:, 1:]\n",
    "y = gb_data_no_date[:, 0]\n",
    "\n",
    "X_train = X[:split]\n",
    "X_test = X[split:]\n",
    "y_train = y[:split]\n",
    "y_test = y[split:]\n",
    "\n",
    "params = {\n",
    "    'objective': 'binary:logistic',\n",
    "    'max_depth': 3,\n",
    "    'learning_rate': 0.01\n",
    "}\n",
    "\n",
    "# params_constrained = params.copy()\n",
    "# params_constrained['interaction_constraints'] = '[[0, 1, 2, 3]]'\n",
    "feature_names = ['organisation ratio', 'author ratio', 'discipline ratio', 'distance', 'project number']\n",
    "dtrain = xgb.DMatrix(X_train, label=y_train, feature_names=feature_names, enable_categorical=True)\n",
    "dtest = xgb.DMatrix(X_test, label=y_test, feature_names=feature_names, enable_categorical=True)\n",
    "\n",
    "num_boost_round = 10000\n",
    "xgb_model = xgb.train(params, \n",
    "                      dtrain, \n",
    "                      num_boost_round, \n",
    "                      evals=[(dtest, 'test')], \n",
    "                      early_stopping_rounds=200, \n",
    "                      verbose_eval=100)\n",
    "\n",
    "# make three predictions for each publication\n",
    "y_pred = xgb_model.predict(dtest)\n",
    "\n",
    "# get the projects for the highest prediction for each publication\n",
    "project_numbers_pred = []\n",
    "for i in range(0, len(y_pred), gb_raw_shape[0]):\n",
    "    project_numbers_pred.append(list(np.argsort(y_pred[i:i+gb_raw_shape[0]]) + 1)[::-1][:3])\n",
    "\n",
    "project_lists = []\n",
    "for i in range(0, gb_data.shape[0], gb_raw_shape[0]):\n",
    "    pub_belongs = gb_data[i:i + gb_raw_shape[0], 0] * gb_data[i:i + gb_raw_shape[0], -1]\n",
    "    project = sorted(list(pub_belongs[pub_belongs != 0].astype(int)), reverse=True)\n",
    "    project_lists.append(project)\n",
    "\n",
    "project_lists_test = project_lists[len(train_pub_data):]\n",
    "\n",
    "# calculate accuracy\n",
    "# use y_test as mask for project_numbers_test\n",
    "accuracy_list = []\n",
    "for i, project_list in enumerate(list(project_lists_test)):\n",
    "    ratio = len(set(project_numbers_pred[i]) & set(project_list)) / len(set(project_list))\n",
    "    accuracy_list.append(ratio)\n",
    "\n",
    "accuracy = sum(accuracy_list) / len(accuracy_list)\n",
    "print(accuracy)\n",
    "\n",
    "plot_importance(xgb_model)\n",
    "plt.show()"
   ]
  },
  {
   "cell_type": "code",
   "execution_count": 24,
   "metadata": {},
   "outputs": [
    {
     "name": "stdout",
     "output_type": "stream",
     "text": [
      "[0]\ttest-logloss:0.14356\n",
      "[100]\ttest-logloss:0.06023\n",
      "[200]\ttest-logloss:0.03399\n",
      "[300]\ttest-logloss:0.02531\n",
      "[400]\ttest-logloss:0.02312\n",
      "[500]\ttest-logloss:0.02294\n",
      "[600]\ttest-logloss:0.02477\n",
      "[659]\ttest-logloss:0.02626\n",
      "0.8666666666666667\n"
     ]
    },
    {
     "data": {
      "image/png": "[encoded data removed]",
      "text/plain": [
       "<Figure size 640x480 with 1 Axes>"
      ]
     },
     "metadata": {},
     "output_type": "display_data"
    }
   ],
   "source": [
    "# drop date column\n",
    "gb_data_no_date_dis = np.delete(gb_data, [1, 4], 1)\n",
    "\n",
    "X = gb_data_no_date_dis[:, 1:]\n",
    "y = gb_data_no_date_dis[:, 0]\n",
    "\n",
    "X_train = X[:split]\n",
    "X_test = X[split:]\n",
    "y_train = y[:split]\n",
    "y_test = y[split:]\n",
    "\n",
    "params = {\n",
    "    'objective': 'binary:logistic',\n",
    "    'max_depth': 3,\n",
    "    'learning_rate': 0.01\n",
    "}\n",
    "\n",
    "# params_constrained = params.copy()\n",
    "# params_constrained['interaction_constraints'] = '[[0, 1, 2, 3]]'\n",
    "feature_names = ['organisation ratio', 'author ratio', 'distance', 'project number']\n",
    "dtrain = xgb.DMatrix(X_train, label=y_train, feature_names=feature_names, enable_categorical=True)\n",
    "dtest = xgb.DMatrix(X_test, label=y_test, feature_names=feature_names, enable_categorical=True)\n",
    "\n",
    "num_boost_round = 10000\n",
    "xgb_model = xgb.train(params, \n",
    "                      dtrain, \n",
    "                      num_boost_round, \n",
    "                      evals=[(dtest, 'test')], \n",
    "                      early_stopping_rounds=200, \n",
    "                      verbose_eval=100)\n",
    "\n",
    "# make three predictions for each publication\n",
    "y_pred = xgb_model.predict(dtest)\n",
    "\n",
    "# get the projects for the highest prediction for each publication\n",
    "project_numbers_pred = []\n",
    "for i in range(0, len(y_pred), gb_raw_shape[0]):\n",
    "    project_numbers_pred.append(list(np.argsort(y_pred[i:i+gb_raw_shape[0]]) + 1)[::-1][:3])\n",
    "\n",
    "project_lists = []\n",
    "for i in range(0, gb_data.shape[0], gb_raw_shape[0]):\n",
    "    pub_belongs = gb_data[i:i + gb_raw_shape[0], 0] * gb_data[i:i + gb_raw_shape[0], -1]\n",
    "    project = sorted(list(pub_belongs[pub_belongs != 0].astype(int)), reverse=True)\n",
    "    project_lists.append(project)\n",
    "\n",
    "project_lists_test = project_lists[len(train_pub_data):]\n",
    "\n",
    "# calculate accuracy\n",
    "# use y_test as mask for project_numbers_test\n",
    "accuracy_list = []\n",
    "for i, project_list in enumerate(list(project_lists_test)):\n",
    "    ratio = len(set(project_numbers_pred[i]) & set(project_list)) / len(set(project_list))\n",
    "    accuracy_list.append(ratio)\n",
    "\n",
    "accuracy = sum(accuracy_list) / len(accuracy_list)\n",
    "print(accuracy)\n",
    "\n",
    "plot_importance(xgb_model)\n",
    "plt.show()"
   ]
  },
  {
   "cell_type": "code",
   "execution_count": null,
   "metadata": {},
   "outputs": [],
   "source": []
  }
 ],
 "metadata": {
  "kernelspec": {
   "display_name": "base",
   "language": "python",
   "name": "python3"
  },
  "language_info": {
   "codemirror_mode": {
    "name": "ipython",
    "version": 3
   },
   "file_extension": ".py",
   "mimetype": "text/x-python",
   "name": "python",
   "nbconvert_exporter": "python",
   "pygments_lexer": "ipython3",
   "version": "3.11.9"
  }
 },
 "nbformat": 4,
 "nbformat_minor": 2
}
